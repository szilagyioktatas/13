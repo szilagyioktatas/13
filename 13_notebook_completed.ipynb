{
 "cells": [
  {
   "cell_type": "markdown",
   "metadata": {},
   "source": [
    "# try-except:        \n",
    "link:        \n",
    "https://www.w3schools.com/python/python_try_except.asp        "
   ]
  },
  {
   "cell_type": "markdown",
   "metadata": {},
   "source": [
    "`try` blokk: Itt helyezzük el azt a kódot, amely kivételt okozhat.      \n",
    "`except` blokk: Itt kezeljük a konkrét kivételeket. Több except blokkot is használhatunk, hogy különböző típusú kivételeket külön-külön kezeljünk."
   ]
  },
  {
   "cell_type": "code",
   "execution_count": 3,
   "metadata": {},
   "outputs": [
    {
     "name": "stdout",
     "output_type": "stream",
     "text": [
      "1\n"
     ]
    }
   ],
   "source": [
    "x = 1\n",
    "try:\n",
    "  print(x)\n",
    "except:\n",
    "  print(\"An exception occurred\")"
   ]
  },
  {
   "cell_type": "markdown",
   "metadata": {},
   "source": [
    "`finally` blokk (opcionális): Ez a blokk minden esetben lefut, függetlenül attól, hogy történt-e kivétel vagy sem. "
   ]
  },
  {
   "cell_type": "code",
   "execution_count": 6,
   "metadata": {},
   "outputs": [
    {
     "name": "stdout",
     "output_type": "stream",
     "text": [
      "1\n",
      "The 'try except' is finished\n"
     ]
    }
   ],
   "source": [
    "try:\n",
    "  print(x)\n",
    "except:\n",
    "  print(\"Something went wrong\")\n",
    "finally:\n",
    "  print(\"The 'try except' is finished\")"
   ]
  },
  {
   "cell_type": "markdown",
   "metadata": {},
   "source": [
    "      \n",
    "`else` blokk (opcionális): Ha nem történt kivétel, akkor az else blokkban lévő kód fut le.   "
   ]
  },
  {
   "cell_type": "code",
   "execution_count": 7,
   "metadata": {},
   "outputs": [
    {
     "name": "stdout",
     "output_type": "stream",
     "text": [
      "Hello\n",
      "Nothing went wrong\n"
     ]
    }
   ],
   "source": [
    "try:\n",
    "  print(\"Hello\")\n",
    "except:\n",
    "  print(\"Something went wrong\")\n",
    "else:\n",
    "  print(\"Nothing went wrong\")"
   ]
  },
  {
   "cell_type": "markdown",
   "metadata": {},
   "source": [
    "## 1. Feladat: Nullával osztás\n",
    "\n",
    "Próbáljunk meg két számot elosztani.    \n",
    "Kapjuk el a `ZeroDivisionError` hibát.     \n",
    "Kapjuk el az összes többi `Exception` -t.          \n",
    "Ha nincs hiba akkor íjuk ki a megoldást.      \n",
    "A tájákoztassuk a felhasználót hogy a kód lefutott. "
   ]
  },
  {
   "cell_type": "code",
   "execution_count": 8,
   "metadata": {},
   "outputs": [
    {
     "name": "stdout",
     "output_type": "stream",
     "text": [
      "You can't divide by zero!\n",
      "This will always be executed\n"
     ]
    }
   ],
   "source": [
    "try:\n",
    "    # Code that may raise an exception\n",
    "    result = 10 / 0\n",
    "except ZeroDivisionError:\n",
    "    # Code to execute if a ZeroDivisionError occurs\n",
    "    print(\"You can't divide by zero!\")\n",
    "except Exception as e:\n",
    "    # Code to execute for any other type of exception\n",
    "    print(f\"An error occurred: {e}\")\n",
    "else:\n",
    "    # Code to execute if no exceptions are raised\n",
    "    print(f\"The result is {result}\")\n",
    "finally:\n",
    "    # Code to execute no matter what (exception or no exception)\n",
    "    print(\"This will always be executed\")\n",
    "\n"
   ]
  },
  {
   "cell_type": "markdown",
   "metadata": {},
   "source": [
    "# Gyakori kivétel típúsok"
   ]
  },
  {
   "cell_type": "code",
   "execution_count": 10,
   "metadata": {},
   "outputs": [
    {
     "name": "stdout",
     "output_type": "stream",
     "text": [
      "Nem lehet nullával osztani!\n"
     ]
    }
   ],
   "source": [
    "# ZeroDivisionError\n",
    "try:\n",
    "    eredmeny = 10 / 0\n",
    "except ZeroDivisionError:\n",
    "    print(\"Nem lehet nullával osztani!\")"
   ]
  },
  {
   "cell_type": "code",
   "execution_count": 11,
   "metadata": {},
   "outputs": [
    {
     "name": "stdout",
     "output_type": "stream",
     "text": [
      "Lista index hiba!\n"
     ]
    }
   ],
   "source": [
    "# IndexError\n",
    "try:\n",
    "    my_list = [1, 2, 3]\n",
    "    elem = my_list[5]\n",
    "except IndexError:\n",
    "    print(\"Lista index hiba!\")\n"
   ]
  },
  {
   "cell_type": "code",
   "execution_count": 13,
   "metadata": {},
   "outputs": [],
   "source": [
    "# TypeError\n",
    "try:\n",
    "    eredmeny = len([5])\n",
    "except TypeError:\n",
    "    print(\"Helytelen típus!\")\n"
   ]
  },
  {
   "cell_type": "code",
   "execution_count": null,
   "metadata": {},
   "outputs": [],
   "source": [
    "# KeyError\n",
    "try:\n",
    "    my_dict = {'a': 1}\n",
    "    value = my_dict['b']\n",
    "except KeyError:\n",
    "    print(\"Kulcs nem található a szótárban!\")\n"
   ]
  },
  {
   "cell_type": "code",
   "execution_count": null,
   "metadata": {},
   "outputs": [],
   "source": [
    "# ValueError\n",
    "try:\n",
    "    szam = int('abc')\n",
    "except ValueError:\n",
    "    print(\"Helytelen érték!\")"
   ]
  },
  {
   "cell_type": "code",
   "execution_count": 9,
   "metadata": {},
   "outputs": [
    {
     "name": "stdout",
     "output_type": "stream",
     "text": [
      "A számnak pozitívnak kell lennie!\n"
     ]
    }
   ],
   "source": [
    "def ellenoriz_pozitiv_szamot(szam):\n",
    "    if szam <= 0:\n",
    "        raise ValueError(\"A számnak pozitívnak kell lennie!\")\n",
    "    return szam\n",
    "\n",
    "try:\n",
    "    eredmeny = ellenoriz_pozitiv_szamot(-5)\n",
    "except ValueError as e:\n",
    "    print(e)"
   ]
  },
  {
   "cell_type": "markdown",
   "metadata": {},
   "source": [
    "# Saját hiba: raise"
   ]
  },
  {
   "cell_type": "code",
   "execution_count": null,
   "metadata": {},
   "outputs": [],
   "source": [
    "for i in range(0,10):\n",
    "    print(i)\n",
    "    if i >= 4: \n",
    "        break "
   ]
  },
  {
   "cell_type": "code",
   "execution_count": null,
   "metadata": {},
   "outputs": [],
   "source": [
    "try:\n",
    "    for i in range(0,10):\n",
    "        print(i)\n",
    "        if i >= 4: \n",
    "            raise ValueError('Csak 4-től kisebb számok játszank!')\n",
    "except ValueError as e:\n",
    "    print(e)"
   ]
  },
  {
   "cell_type": "code",
   "execution_count": null,
   "metadata": {},
   "outputs": [],
   "source": [
    "for i in range(0,10):\n",
    "        print(i)\n",
    "        if i >= 4:\n",
    "            print('Csak 4-től kisebb számok játszank!')\n",
    "            break"
   ]
  },
  {
   "cell_type": "markdown",
   "metadata": {},
   "source": [
    "# 2. Feladat: Szöveges file feldolgozása és kivételek kezelése.      \n",
    "A.) Írjunk egy programot ami számokat és karaketereket ír ki string-ként egy file-ba. "
   ]
  },
  {
   "cell_type": "code",
   "execution_count": 5,
   "metadata": {},
   "outputs": [
    {
     "name": "stdout",
     "output_type": "stream",
     "text": [
      "A fájl sikeresen létrehozva és a sorok beleírva.\n"
     ]
    }
   ],
   "source": [
    "lines = [\n",
    "    10,\n",
    "    20,\n",
    "    \"invalid\",\n",
    "    30,\n",
    "    \"40\",\n",
    "    \"abc\",\n",
    "    \"50\",\n",
    "    \"\",\n",
    "    \"\"\n",
    "]\n",
    "\n",
    "with open('example.txt', 'w') as file:\n",
    "    for line in lines:\n",
    "        file.write(str(line) + '\\n')\n",
    "\n",
    "print(\"A fájl sikeresen létrehozva és a sorok beleírva.\")\n"
   ]
  },
  {
   "cell_type": "markdown",
   "metadata": {},
   "source": [
    "B.) Csináljunk egy olyan kódot ami olvassa (soronként) az előbb létrehozott file tartalmát és egész számra konvertálja a sorait.       \n",
    "Ha egy soron nem hajtható végre a konverzió akkor kapjuk el a hibát!"
   ]
  },
  {
   "cell_type": "code",
   "execution_count": 14,
   "metadata": {},
   "outputs": [
    {
     "name": "stdout",
     "output_type": "stream",
     "text": [
      "A beolvasott szám: 10\n",
      "A beolvasott szám: 20\n",
      "Hibás sor található: invalid\n",
      "A beolvasott szám: 30\n",
      "A beolvasott szám: 40\n",
      "Hibás sor található: abc\n",
      "A beolvasott szám: 50\n",
      "Hibás sor található: \n",
      "Hibás sor található: \n",
      "Fájl művelet vége.\n"
     ]
    }
   ],
   "source": [
    "try:\n",
    "    # Megpróbáljuk megnyitni a fájlt olvasásra\n",
    "    with open('example.txt', 'r') as file:\n",
    "        for line in file:\n",
    "            try:\n",
    "                # Feltételezzük, hogy minden sor egy számot tartalmaz\n",
    "                number = int(line)\n",
    "                print(f\"A beolvasott szám: {number}\")\n",
    "            except ValueError:\n",
    "                # Kezeli a formátumhibás sorokat\n",
    "                print(f\"Hibás sor található: {line.strip()}\")\n",
    "except FileNotFoundError:\n",
    "    print(\"Hiba: A fájl nem található!\")\n",
    "except IOError:\n",
    "    print(\"Hiba: Nem sikerült megnyitni a fájlt!\")\n",
    "except Exception as e:\n",
    "    print(f\"Hiba történt: {e}\")\n",
    "finally:\n",
    "    print(\"Fájl művelet vége.\")"
   ]
  },
  {
   "cell_type": "code",
   "execution_count": 15,
   "metadata": {},
   "outputs": [],
   "source": [
    "import random\n",
    "\n",
    "def step() -> int:\n",
    "    return random.choice([-1,1])\n",
    "\n",
    "def simulation() -> list:\n",
    "    pos = 0\n",
    "    lst_pos = [pos]\n",
    "    n = 100\n",
    "    for _ in range(n):\n",
    "        pos += step()\n",
    "        lst_pos.append(pos)\n",
    "    return lst_pos"
   ]
  },
  {
   "cell_type": "code",
   "execution_count": 18,
   "metadata": {},
   "outputs": [],
   "source": [
    "import random\n",
    "\n",
    "class  EgyDimBolyongas():\n",
    "    def __init__(self, init_pos = 0 ) -> None:\n",
    "        self.pos = init_pos\n",
    "        self.lst_pos = [self.pos]\n",
    "    \n",
    "    def step(self) -> int:\n",
    "        return random.choice([-1,1])\n",
    "    \n",
    "    def simulation(self,n ) -> list:\n",
    "        for _ in range(n):\n",
    "            self.pos += self.step()\n",
    "            self.lst_pos.append(self.pos)\n",
    "        return self.lst_pos\n",
    "    \n",
    "    def save(self):\n",
    "        pass\n",
    "    \n",
    "    def read(self):\n",
    "        pass\n",
    "    \n",
    "    def plot(self):\n",
    "        pass"
   ]
  },
  {
   "cell_type": "code",
   "execution_count": 23,
   "metadata": {},
   "outputs": [
    {
     "name": "stdout",
     "output_type": "stream",
     "text": [
      "[0, -1, -2, -1, 0, 1, 2, 3, 4, 3, 4]\n"
     ]
    }
   ],
   "source": [
    "bolyongas = EgyDimBolyongas()\n",
    "print(bolyongas.simulation(10))"
   ]
  }
 ],
 "metadata": {
  "kernelspec": {
   "display_name": "Python 3",
   "language": "python",
   "name": "python3"
  },
  "language_info": {
   "codemirror_mode": {
    "name": "ipython",
    "version": 3
   },
   "file_extension": ".py",
   "mimetype": "text/x-python",
   "name": "python",
   "nbconvert_exporter": "python",
   "pygments_lexer": "ipython3",
   "version": "3.12.4"
  }
 },
 "nbformat": 4,
 "nbformat_minor": 2
}
